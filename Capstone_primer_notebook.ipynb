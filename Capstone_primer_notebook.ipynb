{
  "metadata": {
    "language_info": {
      "codemirror_mode": {
        "name": "python",
        "version": 3
      },
      "file_extension": ".py",
      "mimetype": "text/x-python",
      "name": "python",
      "nbconvert_exporter": "python",
      "pygments_lexer": "ipython3",
      "version": "3.8"
    },
    "kernelspec": {
      "name": "python",
      "display_name": "Python (Pyodide)",
      "language": "python"
    }
  },
  "nbformat_minor": 4,
  "nbformat": 4,
  "cells": [
    {
      "cell_type": "markdown",
      "source": "#Notebook del Proyecto Capstone",
      "metadata": {}
    },
    {
      "cell_type": "markdown",
      "source": "Este notebook se utilizara para la entrega final del proyecto Capstone",
      "metadata": {}
    },
    {
      "cell_type": "code",
      "source": "En primer lugar importaremos pandas y numpys",
      "metadata": {},
      "execution_count": null,
      "outputs": []
    },
    {
      "cell_type": "code",
      "source": "import pandas as pd\nimport numpy as np",
      "metadata": {},
      "execution_count": null,
      "outputs": []
    },
    {
      "cell_type": "markdown",
      "source": "Vamos a imprimir el texto pedido en la tarea",
      "metadata": {}
    }
  ]
}